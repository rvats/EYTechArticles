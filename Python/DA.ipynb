{
 "cells": [
  {
   "cell_type": "code",
   "execution_count": null,
   "id": "1627a664",
   "metadata": {},
   "outputs": [],
   "source": [
    "# Doing Data Analysis for JPMC WIS Data Feed with AffinionDS AD user Data\n",
    "import pandas as pd\n",
    "import os\n",
    "\n",
    "print(\"Starting the Analysis\")\n",
    "dirPath = os.getcwd()\n",
    "adDataCSV = dirPath+'\\\\'+'cxL_ADData.csv'\n",
    "wisDataCSV = dirPath+'\\\\'+'cxL_WISHRData.csv'\n",
    "f1 = pd.read_csv(adDataCSV)\n",
    "f2 = pd.read_csv(wisDataCSV)\n",
    "\n",
    "# Matching Data in JPMC WIS DATA with AD on PrimaryKey and Name\n",
    "print(f2[f2.PrimaryKey.isin(f1.Name)])\n"
   ]
  },
  {
   "cell_type": "code",
   "execution_count": 10,
   "id": "658d6194",
   "metadata": {},
   "outputs": [
    {
     "name": "stdout",
     "output_type": "stream",
     "text": [
      "Querying name  Rajindranath\n",
      "Rajindranath =>> Rajindernath levenshtein distance value =>> 2\n",
      "Rajindranath =>> Raj levenshtein distance value =>> 9\n",
      "Rajindranath =>> Rajindrnath levenshtein distance value =>> 1\n"
     ]
    }
   ],
   "source": [
    "import editdistance\n",
    "names = [\n",
    "    \"Rajindernath\",\n",
    "    \"Raj\",\n",
    "    \"Rajindrnath\"\n",
    "]\n",
    "name = \"Rajindranath\"\n",
    "print(\"Querying name \", name)\n",
    "\n",
    "for each in names:\n",
    "    print(\"{} =>> {} levenshtein distance value =>> {}\"\\\n",
    "        .format(name, each, editdistance.eval(name, each)))"
   ]
  },
  {
   "cell_type": "code",
   "execution_count": null,
   "id": "25e78eb5",
   "metadata": {},
   "outputs": [],
   "source": []
  }
 ],
 "metadata": {
  "kernelspec": {
   "display_name": "Python 3 (ipykernel)",
   "language": "python",
   "name": "python3"
  },
  "language_info": {
   "codemirror_mode": {
    "name": "ipython",
    "version": 3
   },
   "file_extension": ".py",
   "mimetype": "text/x-python",
   "name": "python",
   "nbconvert_exporter": "python",
   "pygments_lexer": "ipython3",
   "version": "3.9.12"
  }
 },
 "nbformat": 4,
 "nbformat_minor": 5
}
